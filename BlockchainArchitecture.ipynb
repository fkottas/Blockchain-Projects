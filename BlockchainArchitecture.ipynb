{
  "nbformat": 4,
  "nbformat_minor": 0,
  "metadata": {
    "colab": {
      "provenance": []
    },
    "kernelspec": {
      "name": "python3",
      "display_name": "Python 3"
    },
    "language_info": {
      "name": "python"
    }
  },
  "cells": [
    {
      "cell_type": "markdown",
      "source": [
        "#Connect to Etherium Node"
      ],
      "metadata": {
        "id": "pioEgWmQL1Kt"
      }
    },
    {
      "cell_type": "markdown",
      "source": [
        "#Activity #1: Setup the environment"
      ],
      "metadata": {
        "id": "qe8hiKOHtZRr"
      }
    },
    {
      "cell_type": "code",
      "execution_count": 1,
      "metadata": {
        "colab": {
          "base_uri": "https://localhost:8080/",
          "height": 1000
        },
        "id": "VZGjMIimLquL",
        "outputId": "d8dab4c7-4e05-4604-9e88-da5a9c8ae868"
      },
      "outputs": [
        {
          "output_type": "stream",
          "name": "stdout",
          "text": [
            "Collecting protobuf==3.20.3\n",
            "  Using cached protobuf-3.20.3-cp310-cp310-manylinux_2_12_x86_64.manylinux2010_x86_64.whl (1.1 MB)\n",
            "Installing collected packages: protobuf\n",
            "  Attempting uninstall: protobuf\n",
            "    Found existing installation: protobuf 3.19.5\n",
            "    Uninstalling protobuf-3.19.5:\n",
            "      Successfully uninstalled protobuf-3.19.5\n",
            "\u001b[31mERROR: pip's dependency resolver does not currently take into account all the packages that are installed. This behaviour is the source of the following dependency conflicts.\n",
            "web3 5.31.4 requires protobuf==3.19.5, but you have protobuf 3.20.3 which is incompatible.\u001b[0m\u001b[31m\n",
            "\u001b[0mSuccessfully installed protobuf-3.20.3\n"
          ]
        },
        {
          "output_type": "display_data",
          "data": {
            "application/vnd.colab-display-data+json": {
              "pip_warning": {
                "packages": [
                  "google"
                ]
              }
            }
          },
          "metadata": {}
        },
        {
          "output_type": "stream",
          "name": "stdout",
          "text": [
            "Requirement already satisfied: web3==5.31.4 in /usr/local/lib/python3.10/dist-packages (5.31.4)\n",
            "Requirement already satisfied: aiohttp<4,>=3.7.4.post0 in /usr/local/lib/python3.10/dist-packages (from web3==5.31.4) (3.8.6)\n",
            "Requirement already satisfied: eth-abi<3.0.0,>=2.2.0 in /usr/local/lib/python3.10/dist-packages (from web3==5.31.4) (2.2.0)\n",
            "Requirement already satisfied: eth-account<0.6.0,>=0.5.9 in /usr/local/lib/python3.10/dist-packages (from web3==5.31.4) (0.5.9)\n",
            "Requirement already satisfied: eth-hash[pycryptodome]<1.0.0,>=0.2.0 in /usr/local/lib/python3.10/dist-packages (from web3==5.31.4) (0.5.2)\n",
            "Requirement already satisfied: eth-rlp<0.3 in /usr/local/lib/python3.10/dist-packages (from web3==5.31.4) (0.2.1)\n",
            "Requirement already satisfied: eth-typing<3.0.0,>=2.0.0 in /usr/local/lib/python3.10/dist-packages (from web3==5.31.4) (2.3.0)\n",
            "Requirement already satisfied: eth-utils<2.0.0,>=1.9.5 in /usr/local/lib/python3.10/dist-packages (from web3==5.31.4) (1.9.5)\n",
            "Requirement already satisfied: hexbytes<1.0.0,>=0.1.0 in /usr/local/lib/python3.10/dist-packages (from web3==5.31.4) (0.3.1)\n",
            "Requirement already satisfied: ipfshttpclient==0.8.0a2 in /usr/local/lib/python3.10/dist-packages (from web3==5.31.4) (0.8.0a2)\n",
            "Requirement already satisfied: jsonschema<5,>=3.2.0 in /usr/local/lib/python3.10/dist-packages (from web3==5.31.4) (4.19.1)\n",
            "Requirement already satisfied: lru-dict<2.0.0,>=1.1.6 in /usr/local/lib/python3.10/dist-packages (from web3==5.31.4) (1.2.0)\n",
            "Collecting protobuf==3.19.5 (from web3==5.31.4)\n",
            "  Using cached protobuf-3.19.5-cp310-cp310-manylinux_2_17_x86_64.manylinux2014_x86_64.whl (1.1 MB)\n",
            "Requirement already satisfied: requests<3.0.0,>=2.16.0 in /usr/local/lib/python3.10/dist-packages (from web3==5.31.4) (2.31.0)\n",
            "Requirement already satisfied: websockets<10,>=9.1 in /usr/local/lib/python3.10/dist-packages (from web3==5.31.4) (9.1)\n",
            "Requirement already satisfied: multiaddr>=0.0.7 in /usr/local/lib/python3.10/dist-packages (from ipfshttpclient==0.8.0a2->web3==5.31.4) (0.0.9)\n",
            "Requirement already satisfied: attrs>=17.3.0 in /usr/local/lib/python3.10/dist-packages (from aiohttp<4,>=3.7.4.post0->web3==5.31.4) (23.1.0)\n",
            "Requirement already satisfied: charset-normalizer<4.0,>=2.0 in /usr/local/lib/python3.10/dist-packages (from aiohttp<4,>=3.7.4.post0->web3==5.31.4) (3.3.1)\n",
            "Requirement already satisfied: multidict<7.0,>=4.5 in /usr/local/lib/python3.10/dist-packages (from aiohttp<4,>=3.7.4.post0->web3==5.31.4) (6.0.4)\n",
            "Requirement already satisfied: async-timeout<5.0,>=4.0.0a3 in /usr/local/lib/python3.10/dist-packages (from aiohttp<4,>=3.7.4.post0->web3==5.31.4) (4.0.3)\n",
            "Requirement already satisfied: yarl<2.0,>=1.0 in /usr/local/lib/python3.10/dist-packages (from aiohttp<4,>=3.7.4.post0->web3==5.31.4) (1.9.2)\n",
            "Requirement already satisfied: frozenlist>=1.1.1 in /usr/local/lib/python3.10/dist-packages (from aiohttp<4,>=3.7.4.post0->web3==5.31.4) (1.4.0)\n",
            "Requirement already satisfied: aiosignal>=1.1.2 in /usr/local/lib/python3.10/dist-packages (from aiohttp<4,>=3.7.4.post0->web3==5.31.4) (1.3.1)\n",
            "Requirement already satisfied: parsimonious<0.9.0,>=0.8.0 in /usr/local/lib/python3.10/dist-packages (from eth-abi<3.0.0,>=2.2.0->web3==5.31.4) (0.8.1)\n",
            "Requirement already satisfied: bitarray<3,>=1.2.1 in /usr/local/lib/python3.10/dist-packages (from eth-account<0.6.0,>=0.5.9->web3==5.31.4) (2.8.2)\n",
            "Requirement already satisfied: eth-keyfile<0.6.0,>=0.5.0 in /usr/local/lib/python3.10/dist-packages (from eth-account<0.6.0,>=0.5.9->web3==5.31.4) (0.5.1)\n",
            "Requirement already satisfied: eth-keys<0.4.0,>=0.3.4 in /usr/local/lib/python3.10/dist-packages (from eth-account<0.6.0,>=0.5.9->web3==5.31.4) (0.3.4)\n",
            "Requirement already satisfied: rlp<3,>=1.0.0 in /usr/local/lib/python3.10/dist-packages (from eth-account<0.6.0,>=0.5.9->web3==5.31.4) (2.0.1)\n",
            "Requirement already satisfied: pycryptodome<4,>=3.6.6 in /usr/local/lib/python3.10/dist-packages (from eth-hash[pycryptodome]<1.0.0,>=0.2.0->web3==5.31.4) (3.19.0)\n",
            "Requirement already satisfied: cytoolz<1.0.0,>=0.10.1 in /usr/local/lib/python3.10/dist-packages (from eth-utils<2.0.0,>=1.9.5->web3==5.31.4) (0.12.2)\n",
            "Requirement already satisfied: jsonschema-specifications>=2023.03.6 in /usr/local/lib/python3.10/dist-packages (from jsonschema<5,>=3.2.0->web3==5.31.4) (2023.7.1)\n",
            "Requirement already satisfied: referencing>=0.28.4 in /usr/local/lib/python3.10/dist-packages (from jsonschema<5,>=3.2.0->web3==5.31.4) (0.30.2)\n",
            "Requirement already satisfied: rpds-py>=0.7.1 in /usr/local/lib/python3.10/dist-packages (from jsonschema<5,>=3.2.0->web3==5.31.4) (0.10.6)\n",
            "Requirement already satisfied: idna<4,>=2.5 in /usr/local/lib/python3.10/dist-packages (from requests<3.0.0,>=2.16.0->web3==5.31.4) (3.4)\n",
            "Requirement already satisfied: urllib3<3,>=1.21.1 in /usr/local/lib/python3.10/dist-packages (from requests<3.0.0,>=2.16.0->web3==5.31.4) (2.0.7)\n",
            "Requirement already satisfied: certifi>=2017.4.17 in /usr/local/lib/python3.10/dist-packages (from requests<3.0.0,>=2.16.0->web3==5.31.4) (2023.7.22)\n",
            "Requirement already satisfied: toolz>=0.8.0 in /usr/local/lib/python3.10/dist-packages (from cytoolz<1.0.0,>=0.10.1->eth-utils<2.0.0,>=1.9.5->web3==5.31.4) (0.12.0)\n",
            "Requirement already satisfied: varint in /usr/local/lib/python3.10/dist-packages (from multiaddr>=0.0.7->ipfshttpclient==0.8.0a2->web3==5.31.4) (1.0.2)\n",
            "Requirement already satisfied: six in /usr/local/lib/python3.10/dist-packages (from multiaddr>=0.0.7->ipfshttpclient==0.8.0a2->web3==5.31.4) (1.16.0)\n",
            "Requirement already satisfied: base58 in /usr/local/lib/python3.10/dist-packages (from multiaddr>=0.0.7->ipfshttpclient==0.8.0a2->web3==5.31.4) (2.1.1)\n",
            "Requirement already satisfied: netaddr in /usr/local/lib/python3.10/dist-packages (from multiaddr>=0.0.7->ipfshttpclient==0.8.0a2->web3==5.31.4) (0.9.0)\n",
            "Installing collected packages: protobuf\n",
            "  Attempting uninstall: protobuf\n",
            "    Found existing installation: protobuf 3.20.3\n",
            "    Uninstalling protobuf-3.20.3:\n",
            "      Successfully uninstalled protobuf-3.20.3\n",
            "\u001b[31mERROR: pip's dependency resolver does not currently take into account all the packages that are installed. This behaviour is the source of the following dependency conflicts.\n",
            "tensorboard 2.14.1 requires protobuf>=3.19.6, but you have protobuf 3.19.5 which is incompatible.\n",
            "tensorflow 2.14.0 requires protobuf!=4.21.0,!=4.21.1,!=4.21.2,!=4.21.3,!=4.21.4,!=4.21.5,<5.0.0dev,>=3.20.3, but you have protobuf 3.19.5 which is incompatible.\n",
            "tensorflow-datasets 4.9.3 requires protobuf>=3.20, but you have protobuf 3.19.5 which is incompatible.\n",
            "tensorflow-hub 0.15.0 requires protobuf>=3.19.6, but you have protobuf 3.19.5 which is incompatible.\n",
            "tensorflow-metadata 1.14.0 requires protobuf<4.21,>=3.20.3, but you have protobuf 3.19.5 which is incompatible.\u001b[0m\u001b[31m\n",
            "\u001b[0mSuccessfully installed protobuf-3.19.5\n"
          ]
        },
        {
          "output_type": "display_data",
          "data": {
            "application/vnd.colab-display-data+json": {
              "pip_warning": {
                "packages": [
                  "google"
                ]
              }
            }
          },
          "metadata": {}
        }
      ],
      "source": [
        "!pip install protobuf==3.20.3\n",
        "!pip install web3==5.31.4"
      ]
    },
    {
      "cell_type": "code",
      "source": [
        "from web3 import Web3"
      ],
      "metadata": {
        "id": "lkKXjhT4MIto"
      },
      "execution_count": 3,
      "outputs": []
    },
    {
      "cell_type": "markdown",
      "source": [
        "#Activity #2-3: Connect to an Ethereum node (aka “provider”)"
      ],
      "metadata": {
        "id": "dg8hz6Iyth4D"
      }
    },
    {
      "cell_type": "code",
      "source": [
        "providerURL = 'https://mainnet.infura.io/v3/7b5b98d59854437994457dd5791ba80f'\n",
        "w3 = Web3(Web3.HTTPProvider(providerURL))"
      ],
      "metadata": {
        "id": "Pb5vYr3zhWM9"
      },
      "execution_count": 4,
      "outputs": []
    },
    {
      "cell_type": "code",
      "source": [
        "w3.isConnected()"
      ],
      "metadata": {
        "colab": {
          "base_uri": "https://localhost:8080/"
        },
        "id": "ikjtjowpk-Ak",
        "outputId": "e108791e-761e-49e9-c89c-be4e582af3cc"
      },
      "execution_count": 6,
      "outputs": [
        {
          "output_type": "execute_result",
          "data": {
            "text/plain": [
              "True"
            ]
          },
          "metadata": {},
          "execution_count": 6
        }
      ]
    },
    {
      "cell_type": "markdown",
      "source": [
        "#Activity #4:Interact with the Ethereum blockchain"
      ],
      "metadata": {
        "id": "s_Ric9WFlLf9"
      }
    },
    {
      "cell_type": "code",
      "source": [
        "providerURL = 'https://mainnet.infura.io/v3/7b5b98d59854437994457dd5791ba80f'\n",
        "w3 = Web3(Web3.HTTPProvider(providerURL))\n",
        "latestBlock = w3.eth.get_block('latest')\n",
        "print(latestBlock)"
      ],
      "metadata": {
        "colab": {
          "base_uri": "https://localhost:8080/"
        },
        "id": "W19zRVi3lPH5",
        "outputId": "fb2cc411-8a1f-43a9-d2ed-ff927436736a"
      },
      "execution_count": 8,
      "outputs": [
        {
          "output_type": "stream",
          "name": "stdout",
          "text": [
            "AttributeDict({'baseFeePerGas': 14762972052, 'difficulty': 0, 'extraData': HexBytes('0x496c6c756d696e61746520446d6f63726174697a6520447374726962757465'), 'gasLimit': 30000000, 'gasUsed': 15401163, 'hash': HexBytes('0xcf9976bed4b045d86ff100a7716a26def1e2e3acad417a8214fc98503f18c3e0'), 'logsBloom': HexBytes('0xf03b05eecfcfe008937b6217982930e950839835298e28f03ed93003be0223a00c2591808d27963d0167d620061d0bb103a8ba1caa4eb9acec13752ca5e221ade258ce18490eed6ee9f3d71e54e222ac8693140b94f6498f0d84fce88c689651df534e0e8ed7e901b58c531074023e7d26f800e056bc0e548fe0531458ca5e967643a2d286118f282fe7a3f74b1a10cfd8c31a239989114c686bbc6c229174b89b348168c78a79572f544de51b1824c21a8c2125cc2f885b248d40f2d4320521f4d0056627164d4c870890234f9a12e58fb1b62b752f089e836ee1cb053be80d4cf9f40c20919ec9c54511c878048862c1a19d518bfe494405034f280ae5d931'), 'miner': '0xDAFEA492D9c6733ae3d56b7Ed1ADB60692c98Bc5', 'mixHash': HexBytes('0x221c87ecf6257e26a2acbb9baa95ac5ee8caa87c6499bd2ab10b10ff6cb09b92'), 'nonce': HexBytes('0x0000000000000000'), 'number': 18458861, 'parentHash': HexBytes('0x71368f1f82c5605c0f5685de01f58fcba0568b014ee2f3c57f5df758a8a8ad8c'), 'receiptsRoot': HexBytes('0x5d0823f2790be627f7560174bea6340dce0ac407dd0afeb4db49de4233979d77'), 'sha3Uncles': HexBytes('0x1dcc4de8dec75d7aab85b567b6ccd41ad312451b948a7413f0a142fd40d49347'), 'size': 171266, 'stateRoot': HexBytes('0x0a5d53ec323cba8e83c421072e384b42129cb387bf68c911aa65047a6dc894e2'), 'timestamp': 1698619091, 'totalDifficulty': 58750003716598352816469, 'transactions': [HexBytes('0x83dd7d6c5ab2721bf5b1505e3161772790ee78d97c1d4085188ea3f846e320be'), HexBytes('0xd2025b5d97364d2225243db8b707677597102f9b2be7f4ad7907c4eb5d7c5f88'), HexBytes('0x6e27b180bf8c7cc97ae035792f0b748a3db9a9f5a122328f567de90255bc321b'), HexBytes('0xf50e2d7e03965c11f2b103a1949dcd51df3626233b7649b613a58192c5b47a38'), HexBytes('0x765c03a2da9035fde4a1caa0f122e1be15a97735dabf979309730ab5be09e00e'), HexBytes('0xef94d21df5ff0e46f20252b53b904e13a3ee1ec36f9aa8df70d22607298e9090'), HexBytes('0x246c46f8becedb8fc8e882cdbbd51eec8a9dfb9a1976a008863f61fad74ddeb9'), HexBytes('0x0fe5727da3461346e1aa340e23e6e4f304586dbb1bfb3bf69284c3ee8b387d82'), HexBytes('0x880ac113e6cacdc7834f07f326e2dfc5004d7fe284f0b0759d68ba517f8cb22b'), HexBytes('0xcbfc9fad9098a6b8c9e53835949aebb0ec01593f3cfb31be484309f6809edf04'), HexBytes('0x4c1e05e515f8c034e4b43586cdd4abed732a9f7b3e984ee125fd9e3d4f25d8e1'), HexBytes('0xa19eda59d515e38919bf0e9f0914f6cabea90894dd49f281f75eb10c6568deee'), HexBytes('0x69fd8369f06515e195bc20d3363de5e7738255876da73031da31929d7a7fa10e'), HexBytes('0xdbb06bb08c3f268da8f05e4838b7c52b894ef1c062d94ac0a682b8b55438e6aa'), HexBytes('0xf7e7d1e0bbeeecc6f790b168c01f4716a1e042bb762baead174720630e87729d'), HexBytes('0x2fc83edb072abddc7bc475dc64812dfa7d0dc6a5a4a1484ffc2805d6fca70f1e'), HexBytes('0x2aa7e036001bb536113a064cd28386d74ffdeaad90a849efb19e4d904a8a7159'), HexBytes('0x9ec53957b43106abb98cbe805d9f8a7225a7d07d3702ab839f68fc4b89d47ac8'), HexBytes('0xc7a26a878728e6bcd50585bedc87cb2fc561765ca586de20fc84b9ad3d498394'), HexBytes('0xc0e913a74b24c8cb48f5a38e23c5034b9f532ad1ef5d8fd32974e047b546b625'), HexBytes('0x3b1584e5c69a493c3a890e0c5a01e53423c669cc01ec28093bcd6450fd149621'), HexBytes('0xf4c62b38642ad0312f5a9f2f4cd3bc49579e8d1e9e20ef5e4f7069c053918a59'), HexBytes('0x9399a8e6da8a26ac3d00a84c359a017076d7d12aed4576a5fa8fc24143502066'), HexBytes('0x293bb690e24779714e6873c1bf4763680bafb5dd492d420fcfd4da00a2011dc3'), HexBytes('0xe423917aa4083f5c9de3c195d16d8fe08bd97542f5df003da0915138bbbbb386'), HexBytes('0x6c03333259305173df1c94edb5b5470117e5865fb21bc53f02043c513172dae0'), HexBytes('0xb8145bac46d9f49fb5d4b68e9785abc67f72c2b966fa1a26ad47a50b00f172ec'), HexBytes('0xf43184e3740dede36172f9263ac306aec4bf5cd3ce51cfcd5841e53164324f22'), HexBytes('0xad09ce4b771d8b76cda2b5d46575b1c7f64da180e2f13a91a825792c7b540944'), HexBytes('0x19d9d57abe70a747d407d5f11df4c52a979fa46266811281501eeeadb4861646'), HexBytes('0x8e047652d17baddd38b5d88b845c774f9035aa88df94e6c32276458887246d5b'), HexBytes('0xcc68be22b473d3423eca9fcd8b380f2c0e647af9264c1cd687962d24b54abe1f'), HexBytes('0x1a6e66c68cb056b45b5820a9823ef8cc36f0451e69eebd885e0b8a6a5e197729'), HexBytes('0xcfded941d61d13baa0290fb902470f3a126b0eea715296b454f8f25fe8e07fb7'), HexBytes('0xd2b8cf746bca2a751020ee48b96de963a6c803625513cd2fd78b69fc65740ab2'), HexBytes('0x20af25a4cc54b4cc95906678f33cd90d5799506ba29112e3530d188e93049ce0'), HexBytes('0xe13e9496fb2a1e4474a1eaa0db224a97d54dd446d4f42b1d9e79ab43010746f9'), HexBytes('0xce17d54c4bfa1de1dc9ad39c8fa09218fd7dd387f1576cd19b519d43a6f07a0d'), HexBytes('0x06505ffdff49912cbbf0e16beda59f9e24b589e867632e34d7803159428e0e55'), HexBytes('0xd6fb9cc3f2523441692865971b52bb81ed52e537112d3a1fdc019c81ead8dcad'), HexBytes('0x6280f491880ce1169df8468e84e119419943970786a9a438b3e70528bd7406a0'), HexBytes('0x2733d64c3b867d7da8d056fa73eba214f2e8f94b04ebede360193303c5cdc9f8'), HexBytes('0x24b8e0edfe55aa5f61d0c85fd4324ab42bdf95046502a7e5a78f87a31bf2c995'), HexBytes('0xe85eaff7de5acb37a0328f424be6b7ff605abfb222d7cc15b8a8045d6dc62f87'), HexBytes('0x9e6143523ddb1fb53e386ec1969c479dcc32eb75657532368412035eb41eb356'), HexBytes('0xc88d9135feb3806930f2356756a9865c5439ece552dc7a37270d30f3be7b3904'), HexBytes('0x800d56a0598a5b1adc047922ac77b842744542e639af33a67da054031bc9cd63'), HexBytes('0xcc151c609edb30f8b79e0ee182ef1bf348f9a590d1a6bc28090c0dd878ab4d72'), HexBytes('0x295da18d5526196a34184fb36c4de1bfb1faada7321b6eb26007712859445896'), HexBytes('0x3a08f21306c2c42324830ffc6e0c8865af46aa3073700feedc87396df6a74539'), HexBytes('0x55070196ea09c7727fa69d64faa5d433c70547221493f5a57965c13aacd83024'), HexBytes('0xc07b18ff45e7edeb56dcb6f984fb2cebdc03dd1c44995674f40e7be2509e2459'), HexBytes('0x9c2ab185354ffbd538e2174bc44c4cd8f22f8ae87061b0f8f0bf357839ecdae0'), HexBytes('0xa84f272326288f454e997879ae0fb670c759df6363904b16c79e057239b8aa10'), HexBytes('0x455c0f982f60efb039f145dd37c7cffc1320b671c7a01998ba89471601173af2'), HexBytes('0xe0c4abb8a37fd704fc750c2d36199cf971fad6f1a6fea3d25bad8a4f17c35769'), HexBytes('0x43bca76a2fde1a21b86be2a99d7e08382426d21c27c03faeac0624c05f99d8fb'), HexBytes('0x0a203b4f31fc729fd4716631984a954aa5632f602fdd6a69507768479914a066'), HexBytes('0x2ae9ff19b582acd8fccdfc04f74a57f18ccc569d268bf512f7a161a697d1b931'), HexBytes('0xdccca17e6a99f86b65e81c9feff466c116747a0f34e3e8a74d505a20df2ae234'), HexBytes('0x474654eb260fadcd711c1bec6abba3464223ba32e4942ec2dd040ef1df63be3d'), HexBytes('0x8dc110520b5cb6a68848dcdedda821bb4d049ac71daeb01b8811b5c661a87315'), HexBytes('0x1acc4104daeea913f83007fbbcff887d83914d429e4642b9f18238fe72689a56'), HexBytes('0xf4e353300d161d6655472bfae75e02ff2eb319a767045090b22d20ec60937e35'), HexBytes('0xa685455f968be6685340a6a4285b434a28f4cea3807839e87e2ffa8ba1b7c811'), HexBytes('0x13c33f4ad6e00350d0b57dfb89881ef82676da1588e805954b73db023dd09774'), HexBytes('0xf3e14e4f878e7962d0b54879e1c0b36a0e590930da50587ab3ab68c579909062'), HexBytes('0x2b3e748ee9067cf56d6790c0f6801b04113b37a0886cc514714cde18ea46a866'), HexBytes('0x7d72801de47ffb73d63e1dc0b1d86517c633e33f230f2f7bc9ab6de5e96379b2'), HexBytes('0x38ad095558d9d805eecd9d22e2ddfee69dddfb0a8f9dbbbdb98d074899af603a'), HexBytes('0x1e0abc35a81077ebfca1739f0d25d4d85f876de9b44d292ab07e1f83d25017f7'), HexBytes('0xde4174cc1723bd7f5fd919433802b9490d782f2cc9804225e88b12ed4b1026d1'), HexBytes('0xc63e60ff5b94aa7149d0dbc329b2405ed1f71d96d7fb07650b6078d35b2304db'), HexBytes('0x51bb4d7bd1ae04377c0416aed78bf5fdb9e82a6c8310eae438d03849c48b874c'), HexBytes('0x79587c4d688c184a3d8857147414cf873f1d312b3b3002cd3f872daa31a2c487'), HexBytes('0x0cab0aa821e33019227a32edc892dc1f75de60c88b96ed041f2afbdfdf3a9f04'), HexBytes('0x6ac5b5c322a677b0dc559ee9cdf87b46b6b7c4da045334009aa3ffe8486e705d'), HexBytes('0xd1e2ec736607c5ce2d0e8b2804a2bc9571521b211f74bc1010a9345ee84b0b87'), HexBytes('0x6a8a7630a40cc629eb62c678109b51c489cd457edd1fc6e9ff65dfaf210d78f4'), HexBytes('0x20e8a9d9a960864c9ebc0d40a526e6933bbfef24b209dad6225727ebe68e6351'), HexBytes('0x95a2ccb93838aeced9427b305ebfd8bf5e718f6d1dc91e6e0aebc36c144d1233'), HexBytes('0x00a07969085f878f7992160faf94ad144a03f91f67db97b3dbac1163d090edfc'), HexBytes('0xac4f0fdbb33021d33e59e073293739c266c61d31ad8229e5382ec0d37929f998'), HexBytes('0xb4997aa02d5549b834f1f9359a3342a15c9a9d7b5516c81baf0f9f30bf3e30d6'), HexBytes('0x3958df362e54eea33b5a99392502165caecc9792e43d2ce06faf986c0a71356a'), HexBytes('0x0615200f7338d9d05e89183e992c678c18e7a8f99ca7823bd151283572376837'), HexBytes('0xcc5785a32b76c565d3e380d78638768c74096d82815698badbfcb54bd6f818f9'), HexBytes('0xf659c2ec988234f80e189d412b040c08623e17de95194953aaa6981853da8bf8'), HexBytes('0x0165ef333d5da7adf5f44a90ba019df71c3f58aab8a6d6d23e1c62d5b2905474'), HexBytes('0xe7306a3d48de422a3306eafd61ec5afb44caa5f4bed26ddd9c35a107b1d22067'), HexBytes('0xce7cbbd8b8a29eaabc999d034bdc8ca511bd5c59e4c53fbbb3745a2e128c9e30'), HexBytes('0xe1ea92963d1ddd77c3028e6cd189aba04c34c78a6df7c7851c961d0aedb2c490'), HexBytes('0xad57abcc21b82135511aea98b27f6b418d4ae081d3c7c720dcd20e1e847ea115'), HexBytes('0xeae8764f8075b787bf9c37363eebd97894538599ed00803b987f8019d1892855'), HexBytes('0xaaea6ed55e85389b7add4abde66d6b79ec6f343d7183dde7de869d0e1ea902f5'), HexBytes('0x848a5708005ce07992d1c0b1095d14c62c25f15a4f80df00b1502a28d5fa0753'), HexBytes('0xada09e57a792d436fde052c67c31b5586f496ad66f278a3334beffe7afe85862'), HexBytes('0xc45ba58106ceb351fb12bcce98f7372d0070d11e72574b1543d7d6e0f6950684'), HexBytes('0x38157094e2354bed6634b575578e795937c412dd349c1dec55c012f262c27655'), HexBytes('0xb59e118532de44d6387897e7677ad906e9573873059a4cc1a77ff982878f503d'), HexBytes('0x6eb06f1d8fa38e4ddead2caca52f97102e73ea06fef4bb3c8f4e889be5210997'), HexBytes('0x14129b7f2aa852ff63aab2857e8974478da1c0c041ad5da8027d388337d6c883'), HexBytes('0xb032e86bc35a6d6c190b4daa54975d89464fac28083f7625a7a193ff894fc0b3'), HexBytes('0x4ed70443c7b2656384ccbe3afaab3d65913651a7cc5e8a4fae7d56d397a20641'), HexBytes('0x4ad4beabd3633ea29f2e6db39d064a585335ade210f21752772c18c0aa6575ea'), HexBytes('0x3f36d04984061080b13246b270a2f91ecc939f8d29f4dc5cacfb73400e3eb301'), HexBytes('0xb0c961184bfe3746af156f818a391deb49c39ff3004aad5e99b95cb8a8b0800b'), HexBytes('0x0fcb9e38af6796ef7c32c45e78acc2101e3722c0673b1c88d9e9a7d8cc3a361d'), HexBytes('0x08c09289e9e0bc18fc3cb4527b8e5f5a6cdcfac837b472c054988773a464dd4d'), HexBytes('0x454c21809d04f5a6fe34b8bfe3f0c10c6b3cfed18f5da54ac0c872367c6aef1e'), HexBytes('0x804b249592b2eb2ba1b52f5f7f6fafae0a04df35c55186c462587602100da0bf'), HexBytes('0x8451c2074472875d9eb34c25e285120253ff3ca40e0d9fbace48b741cb5bcb32'), HexBytes('0x6a45985a375a953dfb6d0eb5f2242759be7196cb0108c4a43877fe2fb028664e'), HexBytes('0xdd6e66a9c534f320d7b730c045a33740faa49acd9157bd24c522834636adc6b9'), HexBytes('0x25048888e4fc4e28152510c6fac075486902ca6bc70049ccf278dd406b706001'), HexBytes('0xc34965b407b93d28aebffff402c35707b542598e7028e0be32c2bab1a9f9f6be'), HexBytes('0x29cf33f1a113c4fa168d934515e4d1a9c3bd7058dec5205bbb8dcee7b315b447'), HexBytes('0xbfecb7e3c048ea13e0162cf58ef9c82417d62d907dc7bf7eb1182992667c90f4'), HexBytes('0x508870288053374e84522e30cba123769f71a93f11edcf536789c29e2127d416'), HexBytes('0xc3ae6863ab0d4f44b3d60394d0ca182913644505e0c46163ed3ba0c025d29b4c'), HexBytes('0xc931f6a586663482e3383c474bffbcd0a3c8ec13b4d74c68c35c91408152f502'), HexBytes('0xfd1a6418a2f032f314f17c0065a65f9fef23e17136ff180fc04a53479a9218d9'), HexBytes('0x29460cc5b79a853819aee73a304c7e1cab4b0e68897df385a611fae1430b889d'), HexBytes('0x503161542924f3da6f0f5219797bb77bcde4804bf6f7ed006f012146f21017c6'), HexBytes('0xbd1657e61d70fb9e1241832a8099ad682d743e6830b912e2ed94e2b9b0b388a5'), HexBytes('0xa3d9ee023ddad7e370c2439f9306fba8be5ad0426483ff6edb4b8555c16eb64b'), HexBytes('0x63da5faa41fe430ddf70e804bb84e4b54734e35b8c7139e248dd1875d52fa608'), HexBytes('0xb339ba89a227e1673822f0bea90e7e808684d71957235b52a3207fd6c1f7af8b'), HexBytes('0xf28cfe3f377edfca14d206c00cabbe46f5573089f9f9fbe7241e02ed965869f0'), HexBytes('0xf893538bee969975bbeab9c3c595be3c3a74a1893aeb507794153a899523d436'), HexBytes('0x84df3d3d5104901565df60c23c87d5a001547904becaa9cab4249e36b7e7ba1e'), HexBytes('0xdbf5b352468f0bd22c8603f6e5b0606830d213d54dded820a6945095413a643a'), HexBytes('0xcc18ef65062903c74d80b9cae5ecfa7e7f0a3466cf0311a0757df1bd8849db64'), HexBytes('0xc97e6b70a76d04a8876d50df37ff8f2d3bb509995645576366e625c372989f18'), HexBytes('0x4c87673230b987c46dcc45ecd7e52825600f6f618b214a3d05ecb64b998d15eb'), HexBytes('0xda1f028c7281d7cfd67c3bf84a9c02c454d4d824c5ca47deb04450a4dbea9e30'), HexBytes('0xc27c65f55c553de4311ebc995222fd4e5fbb7679bb3667a0c6ae5eb6b4a2b124'), HexBytes('0x6d86f746120eba1d90ca8cfe4ea8734b2375831926dc6f11d6775227fabe7947'), HexBytes('0x38ed3420ae1ff4fbba87d90bfee421039dd0c0b15c4552aa7d8942536a9b27a0'), HexBytes('0xacd2d6cc5539d7698a27123be116919e30f2612314b1da21081dd6eaa64e98c9'), HexBytes('0xfdfd5b8924918d8b0f11c804b9aef67279dcd13578eef1a048f15faff74aa18b'), HexBytes('0xe06806e1acb166a1095590be8c30aaf4ce2c31099b9d46f5cfdec76a0f30aa6e'), HexBytes('0x1e73c2ec6ef8ea45db129df03023c6bc64f07186ffd361c0162642b5422f235e'), HexBytes('0xb697432289108c2b7f350fe30815332433fbacbb11dc5b45aced122a4451936d'), HexBytes('0xbdfe793622e8c1acaf512e80651372d51b56f5ce35f439a0b19bfe96ab48ddb4'), HexBytes('0xfb52b9766b944dc279d8c73efabd441c72c9038116ccb64220e2e9a13bbc9c8f'), HexBytes('0xcd87dd2e141b3b49c7eafa2fd33226c47845cc02688bcfa31826a28dbea85f71'), HexBytes('0xf76edec60c2c2be227ccef068f22523655ed88f55b58d4a151ed949af454e85f'), HexBytes('0xd24d3d59c46a2c7382e4d8a35095484211d2554218f722a366b3b0b28b64a403'), HexBytes('0x22a33f884c0a4c263aa8d3ff6ac56062afca69d7ba2be8d029d70a023fc98fe1'), HexBytes('0xb064207f2c900987bc5afc64625950ab7031c01e35caa56a33f77b02ddb3cd4c'), HexBytes('0x5ef82ebe29165648544634ef46134328b941642cb6163d7cd2c01cc65874861b'), HexBytes('0x94f853ae67739f1e763b966c7cf34603835a2f9bd3b9974a04107f9c0dd21f4d'), HexBytes('0x898fbec86176fc5f1c9d63f6a6236a877528e40918f39630dac3da312dece488'), HexBytes('0xccff4271d2436b0a5ccf3c49cd2001da012ae2043dce15ae0ca3b788d1032a4c'), HexBytes('0x2e79486bc15699b227be8c1e1c265a9e485c95b524e15e9ba4993d81c8780557'), HexBytes('0x00e67ea6fe576ca06b780e29eb5297b9f372eeb1d712a02a8d668c8cc52ef857'), HexBytes('0x5539f7dcd7fe512fc3307ca94ca888db2f9a16a8a10b08e62ef8b5b73c4f0785'), HexBytes('0xa5638b92343c16dde59d795ec1e4a0f7d3c6ec7a229d075cd0b1ccc168e03dfc'), HexBytes('0x938494754dc6cf40d3a73eec8bbec4e5ee4c45345b9dac07902e9d8a70809016'), HexBytes('0x9a3b115f6c62cb6cc7025945fb445197c282138064f86a6ec3a46378f15fe832'), HexBytes('0x2aaa6744a93696dabf2f13288bb159f7e0b59f3adb06b0aee4c1654b82806e94'), HexBytes('0x489af5e995cc3fd86d8ee1f41fcfb7d303cce3759c706d63feac26aaa56a0dce'), HexBytes('0x2c287c988c7ce5bfd27daca6cf233235c1787a657158f7dc7e03cb1af6a504eb'), HexBytes('0x30fcfd7fbe5e2f39594d5fcd557af783d4e01c1950eee3cbfe4a8131c4239339'), HexBytes('0x9f2ae035cf4334814dabb0f86ef3c1462f6c77b1da9fd44ee9e552f5fa12d521'), HexBytes('0xd32bca8cd318c87ceaa797dab7d5c6f3e4e49ed91ffc2a4bbe1c26852ce0e164'), HexBytes('0xef28618d1550395838608dbce8505a9c677ecc38cc59d53b61e1269f880a58f9'), HexBytes('0x24337dee628f4d8e097f12ddb31256d451731f96775647e43dc35a93e27647e5'), HexBytes('0x738d5e1b73c1821230ffd4a46413f096535c827e2fd0c886a8f2074f3f852a3b'), HexBytes('0xafc055b6a96548bb75b889eb1dbff9e1bf3e9f2f7c439346219474763be2eac9'), HexBytes('0xdcc9e3e47569fc60b48991c67fec7512d2e9ebeca8142df75c451b626cb2f872')], 'transactionsRoot': HexBytes('0xaf113118fb434a7a81fc5d9ae5c2cf046a3badb8f07561a0d551f62894d32eab'), 'uncles': [], 'withdrawals': [AttributeDict({'address': '0x890c97d0057f913d358e68e9e135752e38481346', 'amount': '0xfcff75', 'index': '0x15ba1c6', 'validatorIndex': '0xe21e0'}), AttributeDict({'address': '0x890c97d0057f913d358e68e9e135752e38481346', 'amount': '0xfd44c3', 'index': '0x15ba1c7', 'validatorIndex': '0xe21e1'}), AttributeDict({'address': '0x890c97d0057f913d358e68e9e135752e38481346', 'amount': '0xfc68fa', 'index': '0x15ba1c8', 'validatorIndex': '0xe21e2'}), AttributeDict({'address': '0x890c97d0057f913d358e68e9e135752e38481346', 'amount': '0xfc7b5e', 'index': '0x15ba1c9', 'validatorIndex': '0xe21e3'}), AttributeDict({'address': '0x890c97d0057f913d358e68e9e135752e38481346', 'amount': '0xfe566e', 'index': '0x15ba1ca', 'validatorIndex': '0xe21e4'}), AttributeDict({'address': '0x890c97d0057f913d358e68e9e135752e38481346', 'amount': '0xfd1be8', 'index': '0x15ba1cb', 'validatorIndex': '0xe21e5'}), AttributeDict({'address': '0x890c97d0057f913d358e68e9e135752e38481346', 'amount': '0xfee8b0', 'index': '0x15ba1cc', 'validatorIndex': '0xe21e6'}), AttributeDict({'address': '0x890c97d0057f913d358e68e9e135752e38481346', 'amount': '0xfdbfbd', 'index': '0x15ba1cd', 'validatorIndex': '0xe21e7'}), AttributeDict({'address': '0x890c97d0057f913d358e68e9e135752e38481346', 'amount': '0xfb937c', 'index': '0x15ba1ce', 'validatorIndex': '0xe21e8'}), AttributeDict({'address': '0x890c97d0057f913d358e68e9e135752e38481346', 'amount': '0xfdb01d', 'index': '0x15ba1cf', 'validatorIndex': '0xe21e9'}), AttributeDict({'address': '0x890c97d0057f913d358e68e9e135752e38481346', 'amount': '0xfd2309', 'index': '0x15ba1d0', 'validatorIndex': '0xe21ea'}), AttributeDict({'address': '0x890c97d0057f913d358e68e9e135752e38481346', 'amount': '0xfc9dfe', 'index': '0x15ba1d1', 'validatorIndex': '0xe21eb'}), AttributeDict({'address': '0x890c97d0057f913d358e68e9e135752e38481346', 'amount': '0xfcdfda', 'index': '0x15ba1d2', 'validatorIndex': '0xe21ec'}), AttributeDict({'address': '0x890c97d0057f913d358e68e9e135752e38481346', 'amount': '0xfdcbca', 'index': '0x15ba1d3', 'validatorIndex': '0xe21ed'}), AttributeDict({'address': '0x890c97d0057f913d358e68e9e135752e38481346', 'amount': '0xfcd091', 'index': '0x15ba1d4', 'validatorIndex': '0xe21ee'}), AttributeDict({'address': '0x890c97d0057f913d358e68e9e135752e38481346', 'amount': '0xfc42f4', 'index': '0x15ba1d5', 'validatorIndex': '0xe21ef'})], 'withdrawalsRoot': '0xa27c2435798e9c7f4b63ce4d9e6a7b120c31696e0c142550a4ef87f871aba81a'})\n"
          ]
        }
      ]
    },
    {
      "cell_type": "markdown",
      "source": [
        "The format of my result is: AttributeDict({'baseFeePerGas': 14762972052, 'difficulty': 0, 'extraData': HexBytes( .... )"
      ],
      "metadata": {
        "id": "wbjDg_0-qiQi"
      }
    },
    {
      "cell_type": "markdown",
      "source": [
        " We observe information about the latest block on the Ethereum mainnet, the key attributes in this object are:\n",
        "\n",
        "    baseFeePerGas: This attribute represents the base fee per unit of gas used in Ethereum transactions. It's a measure of the current cost of executing transactions on the Ethereum network.\n",
        "\n",
        "    difficulty: The current level of difficulty for mining new blocks on the Ethereum blockchain. It's a measure of how hard it is to find a valid block.\n",
        "\n",
        "    extraData: Extra data included in the Ethereum block, which can vary depending on the network or miner.\n",
        "\n",
        "    gasLimit: The maximum amount of gas that can be used in a block.\n",
        "\n",
        "    gasUsed: The total amount of gas used by all transactions included in the block.\n",
        "\n",
        "    hash: The unique identifier of the block, often referred to as the block hash.\n",
        "\n",
        "    logsBloom: A data structure representing the Bloom filter of the logs in the block.\n",
        "\n",
        "    miner: The address of the miner who successfully mined this block.\n",
        "\n",
        "    mixHash: A hash value related to the proof-of-work algorithm used in mining.\n",
        "\n",
        "    nonce: A random number used in the mining process.\n",
        "\n",
        "    number: The block number, which is a unique identifier for each block in the Ethereum blockchain.\n",
        "\n",
        "    parentHash: The hash of the parent block.\n",
        "\n",
        "    receiptsRoot: The root hash of the transaction receipts included in the block.\n",
        "\n",
        "    sha3Uncles: The SHA3 hash of the stale blocks of the current block.\n",
        "\n",
        "    size: The size of the block in bytes.\n",
        "\n",
        "    stateRoot: The root hash of the Ethereum state trie after applying all transactions.\n",
        "\n",
        "    timestamp: The timestamp when the block was mined, in Unix timestamp format.\n",
        "\n",
        "    totalDifficulty: The cumulative difficulty of the chain up to this block.\n",
        "\n",
        "    transactions: A list of transactions included in the block.\n",
        "\n",
        "These attributes provide information about a latest block in the Ethereum blockchain and are used for tracking and analyzing blockchain data. These attributes can be used for various purposes, such as monitoring network health, analyzing transaction costs, and understanding the blockchain's history."
      ],
      "metadata": {
        "id": "hVwvGnh6l-ie"
      }
    },
    {
      "cell_type": "code",
      "source": [
        "wallet = w3.toChecksumAddress('0xDAFEA492D9c6733ae3d56b7Ed1ADB60692c98Bc5')\n",
        "print(w3.eth.get_balance(wallet))"
      ],
      "metadata": {
        "colab": {
          "base_uri": "https://localhost:8080/"
        },
        "id": "Dgq0c4QTpNBx",
        "outputId": "cead5ba5-8e6e-4acc-9bc3-1718f7c9d6ff"
      },
      "execution_count": 9,
      "outputs": [
        {
          "output_type": "stream",
          "name": "stdout",
          "text": [
            "9060276572462783414\n"
          ]
        }
      ]
    },
    {
      "cell_type": "markdown",
      "source": [
        "value in wei: 9060276572462783414"
      ],
      "metadata": {
        "id": "Ge5fII-fqXZ_"
      }
    },
    {
      "cell_type": "code",
      "source": [
        "# Value in Wei\n",
        "wei_value = 9060276572462783414\n",
        "\n",
        "# Convert Wei to Ether\n",
        "ether_value = w3.fromWei(wei_value, 'ether')\n",
        "\n",
        "print(f\"Value in Ether: {ether_value}\")"
      ],
      "metadata": {
        "colab": {
          "base_uri": "https://localhost:8080/"
        },
        "id": "4axexp99o2bR",
        "outputId": "a9bf08f0-5546-429f-b2a1-d0d8679f2f18"
      },
      "execution_count": 10,
      "outputs": [
        {
          "output_type": "stream",
          "name": "stdout",
          "text": [
            "Value in Ether: 9.060276572462783414\n"
          ]
        }
      ]
    },
    {
      "cell_type": "markdown",
      "source": [
        "Value in Ether: 9.060276572462783414"
      ],
      "metadata": {
        "id": "4WpyAqbsqWIA"
      }
    },
    {
      "cell_type": "markdown",
      "source": [
        "#Activity #5: Interact with a smart contract on Ethereum blockchain (Mainnet)"
      ],
      "metadata": {
        "id": "9lNQcDqVtLrB"
      }
    },
    {
      "cell_type": "code",
      "source": [
        "abi = '[{\"inputs\":[{\"internalType\":\"string\",\"name\":\"name\",\"type\":\"string\"},{\"internalType\":\"string\",\"name\":\"symbol\",\"type\":\"string\"},{\"internalType\":\"address\",\"name\":\"baycAddress\",\"type\":\"address\"},{\"internalType\":\"address\",\"name\":\"baccAddress\",\"type\":\"address\"}],\"stateMutability\":\"nonpayable\",\"type\":\"constructor\"},{\"anonymous\":false,\"inputs\":[{\"indexed\":true,\"internalType\":\"address\",\"name\":\"owner\",\"type\":\"address\"},{\"indexed\":true,\"internalType\":\"address\",\"name\":\"approved\",\"type\":\"address\"},{\"indexed\":true,\"internalType\":\"uint256\",\"name\":\"tokenId\",\"type\":\"uint256\"}],\"name\":\"Approval\",\"type\":\"event\"},{\"anonymous\":false,\"inputs\":[{\"indexed\":true,\"internalType\":\"address\",\"name\":\"owner\",\"type\":\"address\"},{\"indexed\":true,\"internalType\":\"address\",\"name\":\"operator\",\"type\":\"address\"},{\"indexed\":false,\"internalType\":\"bool\",\"name\":\"approved\",\"type\":\"bool\"}],\"name\":\"ApprovalForAll\",\"type\":\"event\"},{\"anonymous\":false,\"inputs\":[{\"indexed\":true,\"internalType\":\"uint256\",\"name\":\"_currentPrice\",\"type\":\"uint256\"},{\"indexed\":true,\"internalType\":\"uint256\",\"name\":\"_timeElapsed\",\"type\":\"uint256\"}],\"name\":\"MutantPublicSalePaused\",\"type\":\"event\"},{\"anonymous\":false,\"inputs\":[{\"indexed\":true,\"internalType\":\"uint256\",\"name\":\"_saleDuration\",\"type\":\"uint256\"},{\"indexed\":true,\"internalType\":\"uint256\",\"name\":\"_saleStartTime\",\"type\":\"uint256\"}],\"name\":\"MutantPublicSaleStart\",\"type\":\"event\"},{\"anonymous\":false,\"inputs\":[{\"indexed\":true,\"internalType\":\"address\",\"name\":\"previousOwner\",\"type\":\"address\"},{\"indexed\":true,\"internalType\":\"address\",\"name\":\"newOwner\",\"type\":\"address\"}],\"name\":\"OwnershipTransferred\",\"type\":\"event\"},{\"anonymous\":false,\"inputs\":[{\"indexed\":true,\"internalType\":\"uint256\",\"name\":\"_mintedMutantsStartingIndex\",\"type\":\"uint256\"},{\"indexed\":true,\"internalType\":\"uint256\",\"name\":\"_megaMutantsStartingIndex\",\"type\":\"uint256\"}],\"name\":\"StartingIndicesSet\",\"type\":\"event\"},{\"anonymous\":false,\"inputs\":[{\"indexed\":true,\"internalType\":\"address\",\"name\":\"from\",\"type\":\"address\"},{\"indexed\":true,\"internalType\":\"address\",\"name\":\"to\",\"type\":\"address\"},{\"indexed\":true,\"internalType\":\"uint256\",\"name\":\"tokenId\",\"type\":\"uint256\"}],\"name\":\"Transfer\",\"type\":\"event\"},{\"inputs\":[],\"name\":\"MAYC_PROVENANCE\",\"outputs\":[{\"internalType\":\"string\",\"name\":\"\",\"type\":\"string\"}],\"stateMutability\":\"view\",\"type\":\"function\"},{\"inputs\":[],\"name\":\"NUM_MEGA_MUTANTS\",\"outputs\":[{\"internalType\":\"uint256\",\"name\":\"\",\"type\":\"uint256\"}],\"stateMutability\":\"view\",\"type\":\"function\"},{\"inputs\":[],\"name\":\"PS_MAX_MUTANTS\",\"outputs\":[{\"internalType\":\"uint256\",\"name\":\"\",\"type\":\"uint256\"}],\"stateMutability\":\"view\",\"type\":\"function\"},{\"inputs\":[],\"name\":\"PS_MAX_MUTANT_PURCHASE\",\"outputs\":[{\"internalType\":\"uint256\",\"name\":\"\",\"type\":\"uint256\"}],\"stateMutability\":\"view\",\"type\":\"function\"},{\"inputs\":[],\"name\":\"PS_MUTANT_ENDING_PRICE\",\"outputs\":[{\"internalType\":\"uint256\",\"name\":\"\",\"type\":\"uint256\"}],\"stateMutability\":\"view\",\"type\":\"function\"},{\"inputs\":[],\"name\":\"SERUM_MUTATION_OFFSET\",\"outputs\":[{\"internalType\":\"uint256\",\"name\":\"\",\"type\":\"uint256\"}],\"stateMutability\":\"view\",\"type\":\"function\"},{\"inputs\":[{\"internalType\":\"address\",\"name\":\"to\",\"type\":\"address\"},{\"internalType\":\"uint256\",\"name\":\"tokenId\",\"type\":\"uint256\"}],\"name\":\"approve\",\"outputs\":[],\"stateMutability\":\"nonpayable\",\"type\":\"function\"},{\"inputs\":[{\"internalType\":\"address\",\"name\":\"owner\",\"type\":\"address\"}],\"name\":\"balanceOf\",\"outputs\":[{\"internalType\":\"uint256\",\"name\":\"\",\"type\":\"uint256\"}],\"stateMutability\":\"view\",\"type\":\"function\"},{\"inputs\":[],\"name\":\"collectionStartingIndexBlock\",\"outputs\":[{\"internalType\":\"uint256\",\"name\":\"\",\"type\":\"uint256\"}],\"stateMutability\":\"view\",\"type\":\"function\"},{\"inputs\":[{\"internalType\":\"uint256\",\"name\":\"tokenId\",\"type\":\"uint256\"}],\"name\":\"getApproved\",\"outputs\":[{\"internalType\":\"address\",\"name\":\"\",\"type\":\"address\"}],\"stateMutability\":\"view\",\"type\":\"function\"},{\"inputs\":[],\"name\":\"getMintPrice\",\"outputs\":[{\"internalType\":\"uint256\",\"name\":\"\",\"type\":\"uint256\"}],\"stateMutability\":\"view\",\"type\":\"function\"},{\"inputs\":[{\"internalType\":\"uint256\",\"name\":\"apeId\",\"type\":\"uint256\"},{\"internalType\":\"uint8\",\"name\":\"serumTypeId\",\"type\":\"uint8\"}],\"name\":\"getMutantIdForApeAndSerumCombination\",\"outputs\":[{\"internalType\":\"uint256\",\"name\":\"\",\"type\":\"uint256\"}],\"stateMutability\":\"view\",\"type\":\"function\"},{\"inputs\":[],\"name\":\"getRemainingSaleTime\",\"outputs\":[{\"internalType\":\"uint256\",\"name\":\"\",\"type\":\"uint256\"}],\"stateMutability\":\"view\",\"type\":\"function\"},{\"inputs\":[{\"internalType\":\"uint8\",\"name\":\"serumType\",\"type\":\"uint8\"},{\"internalType\":\"uint256\",\"name\":\"apeId\",\"type\":\"uint256\"}],\"name\":\"hasApeBeenMutatedWithType\",\"outputs\":[{\"internalType\":\"bool\",\"name\":\"\",\"type\":\"bool\"}],\"stateMutability\":\"view\",\"type\":\"function\"},{\"inputs\":[{\"internalType\":\"address\",\"name\":\"owner\",\"type\":\"address\"},{\"internalType\":\"address\",\"name\":\"operator\",\"type\":\"address\"}],\"name\":\"isApprovedForAll\",\"outputs\":[{\"internalType\":\"bool\",\"name\":\"\",\"type\":\"bool\"}],\"stateMutability\":\"view\",\"type\":\"function\"},{\"inputs\":[{\"internalType\":\"uint256\",\"name\":\"tokenId\",\"type\":\"uint256\"}],\"name\":\"isMinted\",\"outputs\":[{\"internalType\":\"bool\",\"name\":\"\",\"type\":\"bool\"}],\"stateMutability\":\"view\",\"type\":\"function\"},{\"inputs\":[],\"name\":\"megaMutantsStartingIndex\",\"outputs\":[{\"internalType\":\"uint256\",\"name\":\"\",\"type\":\"uint256\"}],\"stateMutability\":\"view\",\"type\":\"function\"},{\"inputs\":[{\"internalType\":\"uint256\",\"name\":\"numMutants\",\"type\":\"uint256\"}],\"name\":\"mintMutants\",\"outputs\":[],\"stateMutability\":\"payable\",\"type\":\"function\"},{\"inputs\":[],\"name\":\"mintedMutantsStartingIndex\",\"outputs\":[{\"internalType\":\"uint256\",\"name\":\"\",\"type\":\"uint256\"}],\"stateMutability\":\"view\",\"type\":\"function\"},{\"inputs\":[{\"internalType\":\"uint256\",\"name\":\"serumTypeId\",\"type\":\"uint256\"},{\"internalType\":\"uint256\",\"name\":\"apeId\",\"type\":\"uint256\"}],\"name\":\"mutateApeWithSerum\",\"outputs\":[],\"stateMutability\":\"nonpayable\",\"type\":\"function\"},{\"inputs\":[],\"name\":\"name\",\"outputs\":[{\"internalType\":\"string\",\"name\":\"\",\"type\":\"string\"}],\"stateMutability\":\"view\",\"type\":\"function\"},{\"inputs\":[],\"name\":\"numMutantsMinted\",\"outputs\":[{\"internalType\":\"uint256\",\"name\":\"\",\"type\":\"uint256\"}],\"stateMutability\":\"view\",\"type\":\"function\"},{\"inputs\":[],\"name\":\"owner\",\"outputs\":[{\"internalType\":\"address\",\"name\":\"\",\"type\":\"address\"}],\"stateMutability\":\"view\",\"type\":\"function\"},{\"inputs\":[{\"internalType\":\"uint256\",\"name\":\"tokenId\",\"type\":\"uint256\"}],\"name\":\"ownerOf\",\"outputs\":[{\"internalType\":\"address\",\"name\":\"\",\"type\":\"address\"}],\"stateMutability\":\"view\",\"type\":\"function\"},{\"inputs\":[],\"name\":\"pausePublicSale\",\"outputs\":[],\"stateMutability\":\"nonpayable\",\"type\":\"function\"},{\"inputs\":[],\"name\":\"publicSaleActive\",\"outputs\":[{\"internalType\":\"bool\",\"name\":\"\",\"type\":\"bool\"}],\"stateMutability\":\"view\",\"type\":\"function\"},{\"inputs\":[],\"name\":\"publicSaleDuration\",\"outputs\":[{\"internalType\":\"uint256\",\"name\":\"\",\"type\":\"uint256\"}],\"stateMutability\":\"view\",\"type\":\"function\"},{\"inputs\":[],\"name\":\"publicSaleMutantStartingPrice\",\"outputs\":[{\"internalType\":\"uint256\",\"name\":\"\",\"type\":\"uint256\"}],\"stateMutability\":\"view\",\"type\":\"function\"},{\"inputs\":[],\"name\":\"publicSaleStartTime\",\"outputs\":[{\"internalType\":\"uint256\",\"name\":\"\",\"type\":\"uint256\"}],\"stateMutability\":\"view\",\"type\":\"function\"},{\"inputs\":[],\"name\":\"renounceOwnership\",\"outputs\":[],\"stateMutability\":\"nonpayable\",\"type\":\"function\"},{\"inputs\":[{\"internalType\":\"address\",\"name\":\"from\",\"type\":\"address\"},{\"internalType\":\"address\",\"name\":\"to\",\"type\":\"address\"},{\"internalType\":\"uint256\",\"name\":\"tokenId\",\"type\":\"uint256\"}],\"name\":\"safeTransferFrom\",\"outputs\":[],\"stateMutability\":\"nonpayable\",\"type\":\"function\"},{\"inputs\":[{\"internalType\":\"address\",\"name\":\"from\",\"type\":\"address\"},{\"internalType\":\"address\",\"name\":\"to\",\"type\":\"address\"},{\"internalType\":\"uint256\",\"name\":\"tokenId\",\"type\":\"uint256\"},{\"internalType\":\"bytes\",\"name\":\"_data\",\"type\":\"bytes\"}],\"name\":\"safeTransferFrom\",\"outputs\":[],\"stateMutability\":\"nonpayable\",\"type\":\"function\"},{\"inputs\":[],\"name\":\"serumMutationActive\",\"outputs\":[{\"internalType\":\"bool\",\"name\":\"\",\"type\":\"bool\"}],\"stateMutability\":\"view\",\"type\":\"function\"},{\"inputs\":[{\"internalType\":\"address\",\"name\":\"operator\",\"type\":\"address\"},{\"internalType\":\"bool\",\"name\":\"approved\",\"type\":\"bool\"}],\"name\":\"setApprovalForAll\",\"outputs\":[],\"stateMutability\":\"nonpayable\",\"type\":\"function\"},{\"inputs\":[{\"internalType\":\"string\",\"name\":\"uri\",\"type\":\"string\"}],\"name\":\"setBaseURI\",\"outputs\":[],\"stateMutability\":\"nonpayable\",\"type\":\"function\"},{\"inputs\":[],\"name\":\"setStartingIndices\",\"outputs\":[],\"stateMutability\":\"nonpayable\",\"type\":\"function\"},{\"inputs\":[{\"internalType\":\"uint256\",\"name\":\"saleDuration\",\"type\":\"uint256\"},{\"internalType\":\"uint256\",\"name\":\"saleStartPrice\",\"type\":\"uint256\"}],\"name\":\"startPublicSale\",\"outputs\":[],\"stateMutability\":\"nonpayable\",\"type\":\"function\"},{\"inputs\":[{\"internalType\":\"bytes4\",\"name\":\"interfaceId\",\"type\":\"bytes4\"}],\"name\":\"supportsInterface\",\"outputs\":[{\"internalType\":\"bool\",\"name\":\"\",\"type\":\"bool\"}],\"stateMutability\":\"view\",\"type\":\"function\"},{\"inputs\":[],\"name\":\"symbol\",\"outputs\":[{\"internalType\":\"string\",\"name\":\"\",\"type\":\"string\"}],\"stateMutability\":\"view\",\"type\":\"function\"},{\"inputs\":[],\"name\":\"togglePublicSaleActive\",\"outputs\":[],\"stateMutability\":\"nonpayable\",\"type\":\"function\"},{\"inputs\":[],\"name\":\"toggleSerumMutationActive\",\"outputs\":[],\"stateMutability\":\"nonpayable\",\"type\":\"function\"},{\"inputs\":[{\"internalType\":\"uint256\",\"name\":\"index\",\"type\":\"uint256\"}],\"name\":\"tokenByIndex\",\"outputs\":[{\"internalType\":\"uint256\",\"name\":\"\",\"type\":\"uint256\"}],\"stateMutability\":\"view\",\"type\":\"function\"},{\"inputs\":[{\"internalType\":\"address\",\"name\":\"owner\",\"type\":\"address\"},{\"internalType\":\"uint256\",\"name\":\"index\",\"type\":\"uint256\"}],\"name\":\"tokenOfOwnerByIndex\",\"outputs\":[{\"internalType\":\"uint256\",\"name\":\"\",\"type\":\"uint256\"}],\"stateMutability\":\"view\",\"type\":\"function\"},{\"inputs\":[{\"internalType\":\"uint256\",\"name\":\"tokenId\",\"type\":\"uint256\"}],\"name\":\"tokenURI\",\"outputs\":[{\"internalType\":\"string\",\"name\":\"\",\"type\":\"string\"}],\"stateMutability\":\"view\",\"type\":\"function\"},{\"inputs\":[],\"name\":\"totalApesMutated\",\"outputs\":[{\"internalType\":\"uint256\",\"name\":\"\",\"type\":\"uint256\"}],\"stateMutability\":\"view\",\"type\":\"function\"},{\"inputs\":[],\"name\":\"totalSupply\",\"outputs\":[{\"internalType\":\"uint256\",\"name\":\"\",\"type\":\"uint256\"}],\"stateMutability\":\"view\",\"type\":\"function\"},{\"inputs\":[{\"internalType\":\"address\",\"name\":\"from\",\"type\":\"address\"},{\"internalType\":\"address\",\"name\":\"to\",\"type\":\"address\"},{\"internalType\":\"uint256\",\"name\":\"tokenId\",\"type\":\"uint256\"}],\"name\":\"transferFrom\",\"outputs\":[],\"stateMutability\":\"nonpayable\",\"type\":\"function\"},{\"inputs\":[{\"internalType\":\"address\",\"name\":\"newOwner\",\"type\":\"address\"}],\"name\":\"transferOwnership\",\"outputs\":[],\"stateMutability\":\"nonpayable\",\"type\":\"function\"},{\"inputs\":[],\"name\":\"withdraw\",\"outputs\":[],\"stateMutability\":\"nonpayable\",\"type\":\"function\"}]'\n",
        "contractAddress = '0xBC4CA0EdA7647A8aB7C2061c2E118A18a936f13D'\n",
        "#Connect to remote provider\n",
        "w3 = Web3(Web3.HTTPProvider(providerURL))\n",
        "#Check if connected\n",
        "w3.isConnected()\n",
        "#Create an instance of the contract\n",
        "contractInstance = w3.eth.contract(address = contractAddress, abi = abi)\n",
        "print(contractInstance)"
      ],
      "metadata": {
        "colab": {
          "base_uri": "https://localhost:8080/"
        },
        "id": "9MZG56HMtObm",
        "outputId": "c1df49a1-624f-42ff-9e61-441c25560f25"
      },
      "execution_count": 13,
      "outputs": [
        {
          "output_type": "stream",
          "name": "stdout",
          "text": [
            "<web3._utils.datatypes.Contract object at 0x784833786110>\n"
          ]
        }
      ]
    },
    {
      "cell_type": "code",
      "source": [
        "# call the function to get totalSupply\n",
        "totalSupply = contractInstance.functions.totalSupply().call()\n",
        "print(totalSupply)"
      ],
      "metadata": {
        "colab": {
          "base_uri": "https://localhost:8080/"
        },
        "id": "I0IrcnjVygzN",
        "outputId": "8a619929-fd71-403d-d3ce-f68a9224046d"
      },
      "execution_count": 14,
      "outputs": [
        {
          "output_type": "stream",
          "name": "stdout",
          "text": [
            "10000\n"
          ]
        }
      ]
    },
    {
      "cell_type": "code",
      "source": [
        "    # Task-01: The owner address of the contract\n",
        "    owner = contractInstance.functions.owner().call()\n",
        "    print(f'Task-01: Owner Address of the Contract: {owner}')\n",
        "\n",
        "    # Task-02: The total supply of tokens under this collection\n",
        "    totalSupply = contractInstance.functions.totalSupply().call()\n",
        "    print(f'Task-02: Total Supply of Tokens: {totalSupply}')\n",
        "\n",
        "    # Task-03: The symbol of the token collection\n",
        "    symbol = contractInstance.functions.symbol().call()\n",
        "    print(f'Task-03: Token Collection Symbol: {symbol}')\n",
        "\n",
        "    # Task-04: The token URI of Bored Ape NFT token with id 2321\n",
        "    tokenURI = contractInstance.functions.tokenURI(2321).call()\n",
        "    print(f'Task-04: Token URI for Token ID 2321: {tokenURI}')\n",
        "\n",
        "    # Task-05: The token owner of Bored Ape NFT token with id 2321\n",
        "    tokenOwner = contractInstance.functions.ownerOf(2321).call()\n",
        "    print(f'Task-05: Owner of Token ID 2321: {tokenOwner}')"
      ],
      "metadata": {
        "colab": {
          "base_uri": "https://localhost:8080/"
        },
        "id": "c34ViSJ3zZZ_",
        "outputId": "3b1887e0-b35c-4b18-f166-fb1870c38d72"
      },
      "execution_count": 17,
      "outputs": [
        {
          "output_type": "stream",
          "name": "stdout",
          "text": [
            "Task-01: Owner Address of the Contract: 0x0000000000000000000000000000000000000000\n",
            "Task-02: Total Supply of Tokens: 10000\n",
            "Task-03: Token Collection Symbol: BAYC\n",
            "Task-04: Token URI for Token ID 2321: ipfs://QmeSjSinHpPnmXmspMjwiXyN6zS4E9zccariGR3jxcaWtq/2321\n",
            "Task-05: Owner of Token ID 2321: 0xe3199072644455D19f58B1fd8106Ac80b3d2e780\n"
          ]
        }
      ]
    },
    {
      "cell_type": "markdown",
      "source": [
        "Results: Task-01: Owner Address of the Contract: 0x0000000000000000000000000000000000000000\n",
        "Task-02: Total Supply of Tokens: 10000\n",
        "Task-03: Token Collection Symbol: BAYC\n",
        "Task-04: Token URI for Token ID 2321: ipfs://QmeSjSinHpPnmXmspMjwiXyN6zS4E9zccariGR3jxcaWtq/2321\n",
        "Task-05: Owner of Token ID 2321: 0xe3199072644455D19f58B1fd8106Ac80b3d2e780"
      ],
      "metadata": {
        "id": "EqEUhG2Jzoup"
      }
    }
  ]
}